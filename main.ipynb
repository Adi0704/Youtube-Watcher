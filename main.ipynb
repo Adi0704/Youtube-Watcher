{
 "cells": [
  {
   "cell_type": "code",
   "execution_count": 2,
   "metadata": {},
   "outputs": [],
   "source": [
    "#Importing essential libraries\n",
    "from bs4 import BeautifulSoup\n",
    "import requests\n",
    "import csv \n",
    "import datetime\n",
    "import time\n",
    "import smtplib"
   ]
  },
  {
   "attachments": {},
   "cell_type": "markdown",
   "metadata": {},
   "source": [
    "Opening a csv file called youtube.csv and adding the headers to it"
   ]
  },
  {
   "cell_type": "code",
   "execution_count": 3,
   "metadata": {},
   "outputs": [],
   "source": [
    "\n",
    "with open('youtube.csv', 'w', newline='', encoding='UTF8') as f:\n",
    "    writer = csv.writer(f)\n",
    "    header=['Views','Time Stamp']\n",
    "    writer.writerow(header)\n",
    "\n"
   ]
  },
  {
   "attachments": {},
   "cell_type": "markdown",
   "metadata": {},
   "source": [
    "Seperate function to extract the number of views and to check the type of it"
   ]
  },
  {
   "cell_type": "code",
   "execution_count": 35,
   "metadata": {},
   "outputs": [
    {
     "name": "stdout",
     "output_type": "stream",
     "text": [
      "<class 'int'>\n"
     ]
    }
   ],
   "source": [
    "URL = 'https://www.youtube.com/watch?v=4M60iSPyCwA'\n",
    "\n",
    "headers = {\"User-Agent\": \"Mozilla/5.0 (Windows NT 10.0; Win64; x64) AppleWebKit/537.36 (KHTML, like Gecko) Chrome/114.0.0.0 Safari/537.36\"}\n",
    "\n",
    "page = requests.get(URL, headers=headers)\n",
    "\n",
    "soup = BeautifulSoup(page.text, \"html.parser\")\n",
    "\n",
    "soup = BeautifulSoup(soup.prettify(), \"html.parser\")\n",
    "views_meta = soup.find('meta', {'itemprop': 'interactionCount'})\n",
    "views = views_meta['content']\n",
    "views=int(views)\n",
    "print(type(views))\n"
   ]
  },
  {
   "attachments": {},
   "cell_type": "markdown",
   "metadata": {},
   "source": [
    "Writing the send_mail() function which sends a mail once the viewership threshold has crossed\n",
    "1.Replace username and password with the login credentials..Refer to the readme file for the right password else it will not work\n",
    "2.Fill the to_email field with the email_ID of end user\n",
    "3.You can change subject,body,message according to your use case"
   ]
  },
  {
   "cell_type": "code",
   "execution_count": 49,
   "metadata": {},
   "outputs": [],
   "source": [
    "def send_mail():\n",
    "    server = smtplib.SMTP_SSL('smtp.gmail.com', 465)\n",
    "    server.ehlo()\n",
    "\n",
    "\n",
    "    username = ''\n",
    "    password = ''\n",
    "    server.login(username, password)\n",
    "\n",
    "    from_email = username\n",
    "    to_email = ''\n",
    "    subject = 'ViewerShip Crossed'\n",
    "    current_time = datetime.datetime.now().strftime(\"%H:%M:%S\")\n",
    "    body = f'The viewership has crossed your limit at {current_time}'\n",
    "    message = f'Subject: {subject}\\n\\n{body}'\n",
    "\n",
    "    server.sendmail(from_email, to_email, message)   \n",
    "    \n",
    "     \n",
    "\n",
    "\n",
    "\n"
   ]
  },
  {
   "attachments": {},
   "cell_type": "markdown",
   "metadata": {},
   "source": [
    "Writing the check views function to retrieve data and fill the table and also check if the threshold has crossed at the same time to call the send_mail function"
   ]
  },
  {
   "cell_type": "code",
   "execution_count": 56,
   "metadata": {},
   "outputs": [],
   "source": [
    "def check_views():\n",
    "    URL = 'https://www.youtube.com/watch?v=gk4JTomY6aE'\n",
    "\n",
    "    headers = {\"User-Agent\": \"Mozilla/5.0 (Windows NT 10.0; Win64; x64) AppleWebKit/537.36 (KHTML, like Gecko) Chrome/114.0.0.0 Safari/537.36\"}\n",
    "\n",
    "    page = requests.get(URL, headers=headers)\n",
    "\n",
    "    soup = BeautifulSoup(page.text, \"html.parser\")\n",
    "\n",
    "    soup = BeautifulSoup(soup.prettify(), \"html.parser\")\n",
    "    views_meta = soup.find('meta', {'itemprop': 'interactionCount'})\n",
    "    views = views_meta['content']\n",
    "    views=int(views)\n",
    "    current_time = datetime.datetime.now().strftime(\"%H:%M:%S\")\n",
    "    threshold=103000\n",
    "    \n",
    "    data = [views,current_time]\n",
    "\n",
    "    with open('youtube.csv', 'a+', newline='', encoding='UTF8') as f:\n",
    "        writer = csv.writer(f)\n",
    "        writer.writerow(data)\n",
    "    if views>threshold:\n",
    "        send_mail()\n",
    "        return 1\n",
    "    return 0\n",
    "    \n",
    "\n",
    " \n",
    "    "
   ]
  },
  {
   "attachments": {},
   "cell_type": "markdown",
   "metadata": {},
   "source": [
    "The main function which you need to run to start the application"
   ]
  },
  {
   "cell_type": "code",
   "execution_count": 57,
   "metadata": {},
   "outputs": [],
   "source": [
    "\n",
    "while(True):\n",
    "    \n",
    "    check=check_views()\n",
    "    if check==1:\n",
    "        break\n",
    "    time.sleep(10)\n"
   ]
  }
 ],
 "metadata": {
  "kernelspec": {
   "display_name": "Python 3",
   "language": "python",
   "name": "python3"
  },
  "language_info": {
   "codemirror_mode": {
    "name": "ipython",
    "version": 3
   },
   "file_extension": ".py",
   "mimetype": "text/x-python",
   "name": "python",
   "nbconvert_exporter": "python",
   "pygments_lexer": "ipython3",
   "version": "3.10.2"
  },
  "orig_nbformat": 4
 },
 "nbformat": 4,
 "nbformat_minor": 2
}
